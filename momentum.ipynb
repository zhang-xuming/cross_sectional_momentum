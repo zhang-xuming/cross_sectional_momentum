{
 "cells": [
  {
   "cell_type": "code",
   "execution_count": null,
   "id": "325dfb47",
   "metadata": {},
   "outputs": [],
   "source": [
    "import pandas as pd\n",
    "import numpy as np\n",
    "import talib as ta\n",
    "import mplfinance as mpf\n",
    "import matplotlib.pyplot as plt"
   ]
  },
  {
   "cell_type": "code",
   "execution_count": null,
   "id": "e1a75cca",
   "metadata": {},
   "outputs": [],
   "source": [
    "df = pd.read_csv(\"t.csv\")\n",
    "df1 = df[[\"date\",\"sym\",\"close\"]]\n",
    "df1.index = df1[\"sym\"]"
   ]
  },
  {
   "cell_type": "code",
   "execution_count": null,
   "id": "aea7e083",
   "metadata": {},
   "outputs": [],
   "source": [
    "# 数据处理。选取A股时间为2017-2021年数据，剔除时间不足4年的新股。\n",
    "count = 0\n",
    "list = []\n",
    "for i in range(len(df)-1):\n",
    "    if df[\"sym\"].iloc[i] != df[\"sym\"].iloc[i+1]:\n",
    "        if count < 47:\n",
    "            df1.drop(index=df[\"sym\"].iloc[i],inplace=True)\n",
    "        count = 0\n",
    "    else:\n",
    "        count = count + 1\n",
    "df1.drop(index=df[\"sym\"].iloc[len(df)-1],inplace=True)"
   ]
  },
  {
   "cell_type": "code",
   "execution_count": null,
   "id": "2ed1ae34",
   "metadata": {},
   "outputs": [],
   "source": [
    "# 随机选取50支股票\n",
    "df1.drop(\"sym\",axis = 1,inplace=True)\n",
    "df1.reset_index(inplace=True)\n",
    "df1 = df1[-2400:]"
   ]
  },
  {
   "cell_type": "code",
   "execution_count": null,
   "id": "e7e304b5",
   "metadata": {},
   "outputs": [],
   "source": [
    "#过去 n 月的收益\n",
    "df1[\"rtn_1\"] = df1[[\"sym\",\"close\"]].groupby(\"sym\").apply(lambda x: x[[\"close\"]].diff(1)/x[[\"close\"]])\n",
    "df1[\"rtn_2\"] = df1[[\"sym\",\"close\"]].groupby(\"sym\").apply(lambda x: x[[\"close\"]].diff(2)/x[[\"close\"]])\n",
    "df1[\"rtn_3\"] = df1[[\"sym\",\"close\"]].groupby(\"sym\").apply(lambda x: x[[\"close\"]].diff(3)/x[[\"close\"]])\n",
    "df1[\"rtn_6\"] = df1[[\"sym\",\"close\"]].groupby(\"sym\").apply(lambda x: x[[\"close\"]].diff(6)/x[[\"close\"]])\n",
    "df1[\"rtn_12\"] = df1[[\"sym\",\"close\"]].groupby(\"sym\").apply(lambda x: x[[\"close\"]].diff(12)/x[[\"close\"]])\n",
    "#未来 n 月的收益\n",
    "df1[\"rtn_-1\"] = df1[[\"sym\",\"close\"]].groupby(\"sym\").apply(lambda x: -x[[\"close\"]].diff(-1)/x[[\"close\"]])\n",
    "df1[\"rtn_-2\"] = df1[[\"sym\",\"close\"]].groupby(\"sym\").apply(lambda x: -x[[\"close\"]].diff(-2)/x[[\"close\"]])\n",
    "df1[\"rtn_-3\"] = df1[[\"sym\",\"close\"]].groupby(\"sym\").apply(lambda x: -x[[\"close\"]].diff(-3)/x[[\"close\"]])\n",
    "df1[\"rtn_-4\"] = df1[[\"sym\",\"close\"]].groupby(\"sym\").apply(lambda x: -x[[\"close\"]].diff(-4)/x[[\"close\"]])\n",
    "df1[\"rtn_-5\"] = df1[[\"sym\",\"close\"]].groupby(\"sym\").apply(lambda x: -x[[\"close\"]].diff(-5)/x[[\"close\"]])\n",
    "df1[\"rtn_-6\"] = df1[[\"sym\",\"close\"]].groupby(\"sym\").apply(lambda x: -x[[\"close\"]].diff(-6)/x[[\"close\"]])\n",
    "df1[\"rtn_-12\"] = df1[[\"sym\",\"close\"]].groupby(\"sym\").apply(lambda x: -x[[\"close\"]].diff(-12)/x[[\"close\"]])\n"
   ]
  },
  {
   "cell_type": "code",
   "execution_count": null,
   "id": "cfe7bf4a",
   "metadata": {},
   "outputs": [],
   "source": [
    "df1"
   ]
  },
  {
   "cell_type": "code",
   "execution_count": null,
   "id": "530e9c5e",
   "metadata": {},
   "outputs": [],
   "source": [
    "#此处可修改为 J = 1,2,3,6,12\n",
    "df1.sort_values(by=[\"date\",\"rtn_12\"],ascending=True,inplace=True)\n",
    "df1.reset_index(inplace=True)"
   ]
  },
  {
   "cell_type": "code",
   "execution_count": null,
   "id": "cf9aff54",
   "metadata": {},
   "outputs": [],
   "source": [
    "# p1-loser p5-winner\n",
    "# 此处可修改 K = 1,2,3,4,5,6,12\n",
    "x = 50\n",
    "p1=[]\n",
    "p2=[]\n",
    "p3=[]\n",
    "p4=[]\n",
    "p5=[]\n",
    "for i in range(0,len(df1),50):    #50是股票数，也代表一个月\n",
    "    for j in range(i,i+9):\n",
    "        p1.append(df1[\"rtn_-12\"].iloc[j])\n",
    "    for j in range(i+10,i+19):\n",
    "        p2.append(df1[\"rtn_-12\"].iloc[j])\n",
    "    for j in range(i+20,i+29):\n",
    "        p3.append(df1[\"rtn_-12\"].iloc[j])\n",
    "    for j in range(i+30,i+39):\n",
    "        p4.append(df1[\"rtn_-12\"].iloc[j])\n",
    "    for j in range(i+40,i+49):\n",
    "        p5.append(df1[\"rtn_-12\"].iloc[j])\n",
    "p1 = [x for x in p1 if np.isnan(x) == False]\n",
    "p2 = [x for x in p2 if np.isnan(x) == False]\n",
    "p3 = [x for x in p3 if np.isnan(x) == False]\n",
    "p4 = [x for x in p4 if np.isnan(x) == False]\n",
    "p5 = [x for x in p5 if np.isnan(x) == False]\n",
    "\n",
    "\n"
   ]
  },
  {
   "cell_type": "code",
   "execution_count": null,
   "id": "84de413d",
   "metadata": {},
   "outputs": [],
   "source": [
    "p1 = np.round(np.mean(p1)+1,3)\n",
    "p2 = np.round(np.mean(p2)+1,3)\n",
    "p3 = np.round(np.mean(p3)+1,3)\n",
    "p4 = np.round(np.mean(p4)+1,3)\n",
    "p5 = np.round(np.mean(p5)+1,3)\n",
    "print(\"p1:\",p1,\"p2:\",p2,\"p3:\",p3,\"p4:\",p4,\"p5:\",p5,\"p5-p1\",np.round(p5-p1,3))"
   ]
  },
  {
   "cell_type": "code",
   "execution_count": null,
   "id": "74bff64c",
   "metadata": {},
   "outputs": [],
   "source": []
  }
 ],
 "metadata": {
  "kernelspec": {
   "display_name": "Python 3 (ipykernel)",
   "language": "python",
   "name": "python3"
  },
  "language_info": {
   "codemirror_mode": {
    "name": "ipython",
    "version": 3
   },
   "file_extension": ".py",
   "mimetype": "text/x-python",
   "name": "python",
   "nbconvert_exporter": "python",
   "pygments_lexer": "ipython3",
   "version": "3.9.7"
  }
 },
 "nbformat": 4,
 "nbformat_minor": 5
}
